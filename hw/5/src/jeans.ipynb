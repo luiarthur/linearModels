{
 "cells": [
  {
   "cell_type": "code",
   "execution_count": 14,
   "metadata": {
    "collapsed": false
   },
   "outputs": [],
   "source": [
    "jeans <- read.table(\"../dat/blue-jeans.txt\",header=TRUE)\n",
    "mod <- lm(Scores ~ as.factor(Brand), data=jeans)\n",
    "summary.mod <- summary(mod)\n",
    "anova.mod <- anova(mod)"
   ]
  },
  {
   "cell_type": "code",
   "execution_count": 15,
   "metadata": {
    "collapsed": false
   },
   "outputs": [
    {
     "data": {
      "text/html": [
       "<table>\n",
       "<thead><tr><th></th><th scope=col>Estimate</th><th scope=col>Std. Error</th><th scope=col>t value</th><th scope=col>Pr(>|t|)</th></tr></thead>\n",
       "<tbody>\n",
       "\t<tr><th scope=row>(Intercept)</th><td>2.430000e+00</td><td>1.854469e-01</td><td>1.310348e+01</td><td>1.819035e-13</td></tr>\n",
       "\t<tr><th scope=row>as.factor(Brand)2</th><td>0.812500000</td><td>0.262261584</td><td>3.098051906</td><td>0.004401149</td></tr>\n",
       "\t<tr><th scope=row>as.factor(Brand)3</th><td>0.743750000</td><td>0.262261584</td><td>2.835909053</td><td>0.008394582</td></tr>\n",
       "\t<tr><th scope=row>as.factor(Brand)4</th><td>0.0975000</td><td>0.2622616</td><td>0.3717662</td><td>0.7128656</td></tr>\n",
       "</tbody>\n",
       "</table>\n"
      ],
      "text/latex": [
       "\\begin{tabular}{r|llll}\n",
       "  & Estimate & Std. Error & t value & Pr(>|t|)\\\\\n",
       "\\hline\n",
       "\t(Intercept) & 2.430000e+00 & 1.854469e-01 & 1.310348e+01 & 1.819035e-13\\\\\n",
       "\tas.factor(Brand)2 & 0.812500000 & 0.262261584 & 3.098051906 & 0.004401149\\\\\n",
       "\tas.factor(Brand)3 & 0.743750000 & 0.262261584 & 2.835909053 & 0.008394582\\\\\n",
       "\tas.factor(Brand)4 & 0.0975000 & 0.2622616 & 0.3717662 & 0.7128656\\\\\n",
       "\\end{tabular}\n"
      ],
      "text/markdown": [
       "1. 2.43\n",
       "2. 0.812499999999999\n",
       "3. 0.743749999999999\n",
       "4. 0.0974999999999998\n",
       "5. 0.185446944424621\n",
       "6. 0.262261583905949\n",
       "7. 0.262261583905949\n",
       "8. 0.262261583905949\n",
       "9. 13.1034782349176\n",
       "10. 3.09805190641789\n",
       "11. 2.83590905279791\n",
       "12. 0.371766228770146\n",
       "13. 1.81903457037383e-13\n",
       "14. 0.00440114867511453\n",
       "15. 0.00839458233652376\n",
       "16. 0.712865588277639\n",
       "\n",
       "\n"
      ],
      "text/plain": [
       "                  Estimate Std. Error    t value     Pr(>|t|)\n",
       "(Intercept)        2.43000  0.1854469 13.1034782 1.819035e-13\n",
       "as.factor(Brand)2  0.81250  0.2622616  3.0980519 4.401149e-03\n",
       "as.factor(Brand)3  0.74375  0.2622616  2.8359091 8.394582e-03\n",
       "as.factor(Brand)4  0.09750  0.2622616  0.3717662 7.128656e-01"
      ]
     },
     "execution_count": 15,
     "metadata": {},
     "output_type": "execute_result"
    }
   ],
   "source": [
    "#1a) ?\n",
    "summary.mod$coef"
   ]
  },
  {
   "cell_type": "markdown",
   "metadata": {},
   "source": [
    "We obtained an F-statistic in the ANOVA table above. F = 5.225 $\\Rightarrow$ p-val = .00543 < .05.\n",
    "\n",
    "$\\therefore$ We reject the null hypothesis that the jeans have no effect."
   ]
  },
  {
   "cell_type": "code",
   "execution_count": null,
   "metadata": {
    "collapsed": true
   },
   "outputs": [],
   "source": [
    "#1b)"
   ]
  }
 ],
 "metadata": {
  "kernelspec": {
   "display_name": "R",
   "language": "R",
   "name": "ir"
  },
  "language_info": {
   "codemirror_mode": "r",
   "file_extension": ".r",
   "mimetype": "text/x-r-source",
   "name": "R",
   "pygments_lexer": "r",
   "version": "3.2.2"
  }
 },
 "nbformat": 4,
 "nbformat_minor": 0
}
