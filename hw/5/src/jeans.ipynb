{
 "cells": [
  {
   "cell_type": "markdown",
   "metadata": {},
   "source": [
    "$\n",
    "\\newcommand{\\p}[1]{\\left(#1\\right)}\n",
    "\\newcommand{\\bk}[1]{\\left[#1\\right]}\n",
    "\\newcommand{\\bc}[1]{ \\left\\{#1\\right\\} }\n",
    "\\newcommand{\\abs}[1]{ \\left|#1\\right| }\n",
    "\\newcommand{\\E}{ \\text{E} }\n",
    "\\newcommand{\\N}{ \\mathcal N }\n",
    "\\newcommand{\\ds}{ \\displaystyle }\n",
    "$\n",
    "\n",
    "# 1a)"
   ]
  },
  {
   "cell_type": "code",
   "execution_count": null,
   "metadata": {
    "collapsed": true
   },
   "outputs": [],
   "source": [
    "set.seed(256)\n",
    "jeans <- read.table(\"../dat/blue-jeans.txt\",header=TRUE)\n",
    "options(contrasts=c(\"contr.sum\",\"contr.poly\"))\n",
    "mod <- lm(Scores ~ as.factor(Brand), data=jeans)\n",
    "summary.mod <- summary(mod)\n",
    "anova.mod <- anova(mod)"
   ]
  },
  {
   "cell_type": "code",
   "execution_count": 14,
   "metadata": {
    "collapsed": false
   },
   "outputs": [
    {
     "data": {
      "text/plain": [
       "\n",
       "Call:\n",
       "lm(formula = Scores ~ as.factor(Brand), data = jeans)\n",
       "\n",
       "Residuals:\n",
       "     Min       1Q   Median       3Q      Max \n",
       "-0.89375 -0.40687  0.04125  0.35219  0.98000 \n",
       "\n",
       "Coefficients:\n",
       "                  Estimate Std. Error t value Pr(>|t|)    \n",
       "(Intercept)        2.84344    0.09272  30.666   <2e-16 ***\n",
       "as.factor(Brand)1 -0.41344    0.16060  -2.574   0.0156 *  \n",
       "as.factor(Brand)2  0.39906    0.16060   2.485   0.0192 *  \n",
       "as.factor(Brand)3  0.33031    0.16060   2.057   0.0491 *  \n",
       "---\n",
       "Signif. codes:  0 ‘***’ 0.001 ‘**’ 0.01 ‘*’ 0.05 ‘.’ 0.1 ‘ ’ 1\n",
       "\n",
       "Residual standard error: 0.5245 on 28 degrees of freedom\n",
       "Multiple R-squared:  0.3589,\tAdjusted R-squared:  0.2902 \n",
       "F-statistic: 5.225 on 3 and 28 DF,  p-value: 0.005434\n"
      ]
     },
     "execution_count": 14,
     "metadata": {},
     "output_type": "execute_result"
    }
   ],
   "source": [
    "#1a)\n",
    "summary.mod"
   ]
  },
  {
   "cell_type": "code",
   "execution_count": 15,
   "metadata": {
    "collapsed": false
   },
   "outputs": [
    {
     "data": {
      "text/html": [
       "<table>\n",
       "<thead><tr><th></th><th scope=col>Df</th><th scope=col>Sum Sq</th><th scope=col>Mean Sq</th><th scope=col>F value</th><th scope=col>Pr(&gt;F)</th></tr></thead>\n",
       "<tbody>\n",
       "\t<tr><th scope=row>as.factor(Brand)</th><td>3.000000000</td><td>4.312834375</td><td>1.437611458</td><td>5.225311371</td><td>0.005434089</td></tr>\n",
       "\t<tr><th scope=row>Residuals</th><td>28.0000000</td><td> 7.7034875</td><td> 0.2751246</td><td>        NA</td><td>        NA</td></tr>\n",
       "</tbody>\n",
       "</table>\n"
      ],
      "text/latex": [
       "\\begin{tabular}{r|lllll}\n",
       "  & Df & Sum Sq & Mean Sq & F value & Pr(>F)\\\\\n",
       "\\hline\n",
       "\tas.factor(Brand) & 3.000000000 & 4.312834375 & 1.437611458 & 5.225311371 & 0.005434089\\\\\n",
       "\tResiduals & 28.0000000 &  7.7034875 &  0.2751246 &         NA &         NA\\\\\n",
       "\\end{tabular}\n"
      ],
      "text/plain": [
       "Analysis of Variance Table\n",
       "\n",
       "Response: Scores\n",
       "                 Df Sum Sq Mean Sq F value   Pr(>F)   \n",
       "as.factor(Brand)  3 4.3128 1.43761  5.2253 0.005434 **\n",
       "Residuals        28 7.7035 0.27512                    \n",
       "---\n",
       "Signif. codes:  0 ‘***’ 0.001 ‘**’ 0.01 ‘*’ 0.05 ‘.’ 0.1 ‘ ’ 1"
      ]
     },
     "execution_count": 15,
     "metadata": {},
     "output_type": "execute_result"
    }
   ],
   "source": [
    "anova.mod # this tells us if the factor Brand contributes to the model"
   ]
  },
  {
   "cell_type": "markdown",
   "metadata": {},
   "source": [
    "We obtained an F-statistic in the ANOVA table above. F = 5.225 $\\Rightarrow$ p-val = .00543 < .05.\n",
    "\n",
    "$\\therefore$ We reject the null hypothesis that the jeans have no effect. Note that the output is testing\n",
    "\n",
    "$$\n",
    "\\begin{cases}\n",
    "    H_0: \\text{Brands don't contribute to the model}\\\\\n",
    "    H_a: \\text{Brands contribute to the model}\n",
    "\\end{cases}\n",
    "$$\n",
    "\n",
    "The anova function is smart enough to recognize the Brand factor as **one** variable. In our classes notation,\n",
    "the first row of the anoav output corresponds to $SS(\\boldsymbol\\alpha | \\mu)$"
   ]
  },
  {
   "cell_type": "markdown",
   "metadata": {
    "collapsed": true
   },
   "source": [
    "# 1b)\n",
    "\n",
    "Now, we want to test the hypothesis that brands 2 & 3 are cheap and brands 1 & 4 are expensive. In other words,\n",
    "we're testing \n",
    "\n",
    "$$\n",
    "    H_0: C\\boldsymbol\\alpha = 0,\n",
    "$$\n",
    "\n",
    "where $C = \\p{\n",
    "    \\begin{array}{rrr}\n",
    "    0 & 1 & -1 &  0 \\\\\n",
    "    1 & 0 &  0 & -1 \\\\\n",
    "    1/2 & -1/2 & -1/2 & 1/2 \\\\\n",
    "    \\end{array}\n",
    "}$.\n",
    "\n",
    "The $C$ matrix follows from the hypothesis that brands 2,3 are the same; 1,4 are the same; and 2,3 are different from 1,4."
   ]
  },
  {
   "cell_type": "code",
   "execution_count": null,
   "metadata": {
    "collapsed": true
   },
   "outputs": [],
   "source": []
  },
  {
   "cell_type": "code",
   "execution_count": null,
   "metadata": {
    "collapsed": true
   },
   "outputs": [],
   "source": []
  }
 ],
 "metadata": {
  "kernelspec": {
   "display_name": "R",
   "language": "R",
   "name": "ir"
  },
  "language_info": {
   "codemirror_mode": "r",
   "file_extension": ".r",
   "mimetype": "text/x-r-source",
   "name": "R",
   "pygments_lexer": "r",
   "version": "3.3.0"
  }
 },
 "nbformat": 4,
 "nbformat_minor": 0
}
