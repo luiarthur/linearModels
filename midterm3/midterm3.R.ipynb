{
 "cells": [
  {
   "cell_type": "code",
   "execution_count": 7,
   "metadata": {
    "collapsed": true
   },
   "outputs": [],
   "source": [
    "mu <- .8893\n",
    "# Major => 1 = Econ, 2 = Anthro, 3 = Sociology\n",
    "a1 <- 0\n",
    "a2 <- 1.9860\n",
    "a3 <- 1.1889\n",
    "# High School Back Ground (BG) => 1 = Rural, 2 = Urban\n",
    "eta1 <- 0\n",
    "eta2 <- 1.2564\n",
    "# Interaction\n",
    "gam11 <- 0\n",
    "gam12 <- 0\n",
    "gam21 <- 0\n",
    "gam22 <- -1.6631\n",
    "gam31 <- 0\n",
    "gam32 <- -1.6130\n",
    "\n",
    "\n",
    "#                                   Estimate  Std. Error  t value  Pr(>|t|)\n",
    "# (Intercept)                         0.8893      0.4033    2.205   0.03554 *\n",
    "# as.factor(Major)2                   1.9860      0.6377    3.114   0.00413 **\n",
    "# as.factor(Major)3                   1.1889      0.6377    1.864   0.07244 .\n",
    "# as.factor(BG)2                      1.2564      0.5207    2.413   0.02237 *\n",
    "# as.factor(Major)2:as.factor(BG)2   -1.6631      0.8233   -2.020   0.05270 .\n",
    "# as.factor(Major)3:as.factor(BG)2   -1.6130      0.8233   -1.959   0.05977 ."
   ]
  },
  {
   "cell_type": "code",
   "execution_count": 14,
   "metadata": {
    "collapsed": false
   },
   "outputs": [
    {
     "data": {
      "text/html": [
       "0.8893"
      ],
      "text/latex": [
       "0.8893"
      ],
      "text/markdown": [
       "0.8893"
      ],
      "text/plain": [
       "[1] 0.8893"
      ]
     },
     "execution_count": 14,
     "metadata": {},
     "output_type": "execute_result"
    },
    {
     "data": {
      "text/html": [
       "2.1457"
      ],
      "text/latex": [
       "2.1457"
      ],
      "text/markdown": [
       "2.1457"
      ],
      "text/plain": [
       "[1] 2.1457"
      ]
     },
     "execution_count": 14,
     "metadata": {},
     "output_type": "execute_result"
    },
    {
     "data": {
      "text/html": [
       "2.8753"
      ],
      "text/latex": [
       "2.8753"
      ],
      "text/markdown": [
       "2.8753"
      ],
      "text/plain": [
       "[1] 2.8753"
      ]
     },
     "execution_count": 14,
     "metadata": {},
     "output_type": "execute_result"
    },
    {
     "data": {
      "text/html": [
       "2.4686"
      ],
      "text/latex": [
       "2.4686"
      ],
      "text/markdown": [
       "2.4686"
      ],
      "text/plain": [
       "[1] 2.4686"
      ]
     },
     "execution_count": 14,
     "metadata": {},
     "output_type": "execute_result"
    },
    {
     "data": {
      "text/html": [
       "2.0782"
      ],
      "text/latex": [
       "2.0782"
      ],
      "text/markdown": [
       "2.0782"
      ],
      "text/plain": [
       "[1] 2.0782"
      ]
     },
     "execution_count": 14,
     "metadata": {},
     "output_type": "execute_result"
    },
    {
     "data": {
      "text/html": [
       "1.7216"
      ],
      "text/latex": [
       "1.7216"
      ],
      "text/markdown": [
       "1.7216"
      ],
      "text/plain": [
       "[1] 1.7216"
      ]
     },
     "execution_count": 14,
     "metadata": {},
     "output_type": "execute_result"
    }
   ],
   "source": [
    "(E_y11 <- mu + a1 + eta1 + gam11) # = mu\n",
    "(E_y12 <- mu + a1 + eta2 + gam12) # = mu + eta2\n",
    "(E_y21 <- mu + a2 + eta1 + gam21) # = mu + a2\n",
    "(E_y22 <- mu + a2 + eta2 + gam22) #\n",
    "(E_y31 <- mu + a3 + eta1 + gam31) # = mu + a3\n",
    "(E_y32 <- mu + a3 + eta2 + gam32) # = mu + a3\n"
   ]
  },
  {
   "cell_type": "markdown",
   "metadata": {},
   "source": [
    "### 1a) Which group of students has the lowest score?\n",
    "\n",
    "Note that \n",
    "\n",
    "$$\n",
    "\\begin{array}{rclclcr}\n",
    "    E[y_{11}] &=& \\mu + \\alpha_1 + \\eta_1 + \\gamma_{11} &\\approx& \\hat\\mu &=& .8893 \\\\\n",
    "    E[y_{12}] &=& \\mu + \\alpha_1 + \\eta_2 + \\gamma_{12} &\\approx& \\hat\\mu +\\hat\\eta_2 &=& 2.1457 \\\\\n",
    "    E[y_{21}] &=& \\mu + \\alpha_2 + \\eta_1 + \\gamma_{21} &\\approx& \\hat\\mu +\\hat\\alpha_2 &=& 2.8753 \\\\\n",
    "    E[y_{22}] &=& \\mu + \\alpha_2 + \\eta_2 + \\gamma_{22} &\\approx& \\hat\\mu + \\hat\\alpha_2 + \\hat\\eta_2 + \\hat\\gamma_{22}&=& 2.4686 \\\\\n",
    "    E[y_{31}] &=& \\mu + \\alpha_3 + \\eta_1 + \\gamma_{31} &\\approx& \\hat\\mu +\\hat\\alpha_3 &=& 2.0782 \\\\\n",
    "    E[y_{32}] &=& \\mu + \\alpha_3 + \\eta_2 + \\gamma_{32} &\\approx& \\hat\\mu + \\hat\\alpha_3 + \\hat\\eta_2 + \\hat\\gamma_{32}&=& 1.7216 \\\\\n",
    "\\end{array}\n",
    "$$\n",
    "\n",
    "\n",
    "So, the group that corresponds to $y_{11}$ has the **lowest** math ineptitude score. That is, **Economics** majors from **rural** high school backgrounds, with a score of **.8893**.\n",
    "\n",
    "The group that corresponds to $y_{21}$ has the **highest** math ineptitude score. That is, **Anthropology** majors from **rural** high school backgrounds, with a score of **2.8753**."
   ]
  },
  {
   "cell_type": "code",
   "execution_count": null,
   "metadata": {
    "collapsed": true
   },
   "outputs": [],
   "source": []
  }
 ],
 "metadata": {
  "kernelspec": {
   "display_name": "R",
   "language": "R",
   "name": "ir"
  },
  "language_info": {
   "codemirror_mode": "r",
   "file_extension": ".r",
   "mimetype": "text/x-r-source",
   "name": "R",
   "pygments_lexer": "r",
   "version": "3.3.0"
  }
 },
 "nbformat": 4,
 "nbformat_minor": 0
}
