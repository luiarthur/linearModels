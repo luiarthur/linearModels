{
 "cells": [
  {
   "cell_type": "code",
   "execution_count": 1,
   "metadata": {
    "collapsed": true
   },
   "outputs": [],
   "source": [
    "mu <- .8893\n",
    "# Major => 1 = Econ, 2 = Anthro, 3 = Sociology\n",
    "a1 <- 0\n",
    "a2 <- 1.9860\n",
    "a3 <- 1.1889\n",
    "# High School Back Ground (BG) => 1 = Rural, 2 = Urban\n",
    "eta1 <- 0\n",
    "eta2 <- 1.2564\n",
    "# Interaction\n",
    "gam11 <- 0\n",
    "gam12 <- 0\n",
    "gam21 <- 0\n",
    "gam22 <- -1.6631\n",
    "gam31 <- 0\n",
    "gam32 <- -1.6130"
   ]
  },
  {
   "cell_type": "markdown",
   "metadata": {},
   "source": [
    "```R\n",
    "                                  Estimate  Std. Error  t value  Pr(>|t|)\n",
    "(Intercept)                         0.8893      0.4033    2.205   0.03554 *\n",
    "as.factor(Major)2                   1.9860      0.6377    3.114   0.00413 **\n",
    "as.factor(Major)3                   1.1889      0.6377    1.864   0.07244 .\n",
    "as.factor(BG)2                      1.2564      0.5207    2.413   0.02237 *\n",
    "as.factor(Major)2:as.factor(BG)2   -1.6631      0.8233   -2.020   0.05270 .\n",
    "as.factor(Major)3:as.factor(BG)2   -1.6130      0.8233   -1.959   0.05977 .\n",
    "```"
   ]
  },
  {
   "cell_type": "code",
   "execution_count": 2,
   "metadata": {
    "collapsed": false
   },
   "outputs": [
    {
     "data": {
      "text/html": [
       "0.8893"
      ],
      "text/latex": [
       "0.8893"
      ],
      "text/markdown": [
       "0.8893"
      ],
      "text/plain": [
       "[1] 0.8893"
      ]
     },
     "execution_count": 2,
     "metadata": {},
     "output_type": "execute_result"
    },
    {
     "data": {
      "text/html": [
       "2.1457"
      ],
      "text/latex": [
       "2.1457"
      ],
      "text/markdown": [
       "2.1457"
      ],
      "text/plain": [
       "[1] 2.1457"
      ]
     },
     "execution_count": 2,
     "metadata": {},
     "output_type": "execute_result"
    },
    {
     "data": {
      "text/html": [
       "2.8753"
      ],
      "text/latex": [
       "2.8753"
      ],
      "text/markdown": [
       "2.8753"
      ],
      "text/plain": [
       "[1] 2.8753"
      ]
     },
     "execution_count": 2,
     "metadata": {},
     "output_type": "execute_result"
    },
    {
     "data": {
      "text/html": [
       "2.4686"
      ],
      "text/latex": [
       "2.4686"
      ],
      "text/markdown": [
       "2.4686"
      ],
      "text/plain": [
       "[1] 2.4686"
      ]
     },
     "execution_count": 2,
     "metadata": {},
     "output_type": "execute_result"
    },
    {
     "data": {
      "text/html": [
       "2.0782"
      ],
      "text/latex": [
       "2.0782"
      ],
      "text/markdown": [
       "2.0782"
      ],
      "text/plain": [
       "[1] 2.0782"
      ]
     },
     "execution_count": 2,
     "metadata": {},
     "output_type": "execute_result"
    },
    {
     "data": {
      "text/html": [
       "1.7216"
      ],
      "text/latex": [
       "1.7216"
      ],
      "text/markdown": [
       "1.7216"
      ],
      "text/plain": [
       "[1] 1.7216"
      ]
     },
     "execution_count": 2,
     "metadata": {},
     "output_type": "execute_result"
    }
   ],
   "source": [
    "(E_y11 <- mu + a1 + eta1 + gam11) # = mu\n",
    "(E_y12 <- mu + a1 + eta2 + gam12) # = mu + eta2\n",
    "(E_y21 <- mu + a2 + eta1 + gam21) # = mu + a2\n",
    "(E_y22 <- mu + a2 + eta2 + gam22) # = mu + a2 + eta2 + gam22\n",
    "(E_y31 <- mu + a3 + eta1 + gam31) # = mu + a3\n",
    "(E_y32 <- mu + a3 + eta2 + gam32) # = mu + a3 + eta2\n"
   ]
  },
  {
   "cell_type": "markdown",
   "metadata": {},
   "source": [
    "### 1a) Which group of students has the lowest score? (What is it?) Which group of students has the highest score? (What is it?)\n",
    "\n",
    "Note that \n",
    "\n",
    "$$\n",
    "\\begin{array}{rclclcr}\n",
    "    E[y_{11}] &=& \\mu + \\alpha_1 + \\eta_1 + \\gamma_{11} &\\approx& \\hat\\mu &=& .8893 \\\\\n",
    "    E[y_{12}] &=& \\mu + \\alpha_1 + \\eta_2 + \\gamma_{12} &\\approx& \\hat\\mu +\\hat\\eta_2 &=& 2.1457 \\\\\n",
    "    E[y_{21}] &=& \\mu + \\alpha_2 + \\eta_1 + \\gamma_{21} &\\approx& \\hat\\mu +\\hat\\alpha_2 &=& 2.8753 \\\\\n",
    "    E[y_{22}] &=& \\mu + \\alpha_2 + \\eta_2 + \\gamma_{22} &\\approx& \\hat\\mu + \\hat\\alpha_2 + \\hat\\eta_2 + \\hat\\gamma_{22}&=& 2.4686 \\\\\n",
    "    E[y_{31}] &=& \\mu + \\alpha_3 + \\eta_1 + \\gamma_{31} &\\approx& \\hat\\mu +\\hat\\alpha_3 &=& 2.0782 \\\\\n",
    "    E[y_{32}] &=& \\mu + \\alpha_3 + \\eta_2 + \\gamma_{32} &\\approx& \\hat\\mu + \\hat\\alpha_3 + \\hat\\eta_2 + \\hat\\gamma_{32}&=& 1.7216 \\\\\n",
    "\\end{array}\n",
    "$$\n",
    "\n",
    "\n",
    "So, the group that corresponds to $y_{11}$ has the **lowest** math ineptitude score. That is, **Economics** majors from **rural** high school backgrounds, with a score of **.8893**.\n",
    "\n",
    "The group that corresponds to $y_{21}$ has the **highest** math ineptitude score. That is, **Anthropology** majors from **rural** high school backgrounds, with a score of **2.8753**.\n"
   ]
  },
  {
   "cell_type": "markdown",
   "metadata": {},
   "source": [
    "```R\n",
    "Residual standard error: 0.988 on 29 degrees of freedom\n",
    "Multiple R-squared: 0.3057, Adjusted R-squared: 0.1859\n",
    "F-statistic: 2.553 on 5 and 29 DF, p-value: 0.04945\n",
    "```"
   ]
  },
  {
   "cell_type": "markdown",
   "metadata": {},
   "source": [
    "### 1b) In the `summary(.)` output there is an F-statistic, F= 2:553 with 5 and 29 degrees offreedom.\n",
    "\n",
    "1. What are the null and alternative hypotheses being tested?\n",
    "2. What conclusion would you make? (Please state in general terms that relate to the groups rather than parameters)."
   ]
  },
  {
   "cell_type": "markdown",
   "metadata": {
    "collapsed": true
   },
   "source": [
    "$H_0: \\alpha_1 = \\alpha_2 = \\alpha_3 = \\eta_1 = \\eta_2 = 0$\n",
    "\n",
    "$H_1$: At least one of the parameters is not 0.\n",
    "\n",
    "Heuristically, the null hypothesis is that the effect of majors and high school background is not significantly different from zero. The alternative hypothesis is that at least one major or background significantly different from zero and, hence, significantly effects math ineptitude scores (at the 95% confidence level).\n"
   ]
  },
  {
   "cell_type": "markdown",
   "metadata": {},
   "source": [
    "### 1c) In the `anova(.)` output the p-value on the line corresponding to BG is large, yet in the summary from `lm` the p-value for BG2 is small. Do the p-values from the two summaries contradict each other? Explain what is being tested and what it means in this context. Is the students background relevant for predicting the score?"
   ]
  },
  {
   "cell_type": "markdown",
   "metadata": {},
   "source": [
    "```R\n",
    "> anova(lm(Score1 ~ as.factor(Major) * as.factor(BG), data=dat))  \n",
    "\n",
    "  Analysis of Variance Table  \n",
    "  Response: Score1\n",
    "                                 Df  Sum Sq  Mean Sq  F value  Pr(>F)  \n",
    "  as.factor(Major)                2  6.0755  3.03776  3.1123  0.05964 .  \n",
    "  as.factor(BG)                   1  0.8623  0.86233  0.8835  0.35502  \n",
    "  as.factor(Major):as.factor(BG)  2  5.5228  2.76142  2.8291  0.07543 .  \n",
    "  Residuals 29 28.3058 0.97606  \n",
    "```"
   ]
  },
  {
   "cell_type": "markdown",
   "metadata": {},
   "source": [
    "In the ANOVA table, the sum of squares corresponding to BG is the reduction in sum of squares by introducing High School Background as a parameter in the model **after** having introduced college Major (and a grand mean or intercept) as parameters to the model. Similarly, the p-value corresponding to BG is the p-value associated with the null hypothesis that high school background (BG) does not improve the model with the intercept and college major as parameters. In other words, in the ANOVA table, the hypothesis $H_0: \\eta_1 = \\eta_2 = 0$. This means that sequentially added to the model, high school background does not contribute to a reduction in the sums of squares at the 95% confidence level.\n",
    "\n",
    "In the summary table, the p-value corresponding to BG2 is smaller than that of BG in ANOVA (in fact, it's smaller than .05). The hypothesis being tested is not the same. In this case, the hypothesis is $H_0: \\eta_2 = 0$. $\\eta_2$ is not being added sequentially to the model. Rather all parameters are fit in the model simultaneously. In this case, high school background contributes significantly to the model in predicting mathematics ineptitude.\n",
    "\n",
    "For completeness, the two fits (in `anova` and `lm`) *should* be the same, assuming the data was not tampered with to trick us... But the *reporting* is different.\n",
    "\n",
    "$\n",
    "%http://stats.stackexchange.com/questions/28938/why-do-linear-regression-and-anova-give-different-p-value-in-case-of-consideri\n",
    "$"
   ]
  },
  {
   "cell_type": "markdown",
   "metadata": {},
   "source": [
    "### 2a) Estimate $\\beta_1,\\beta_2,$ and $\\sigma^2$"
   ]
  },
  {
   "cell_type": "code",
   "execution_count": 3,
   "metadata": {
    "collapsed": false
   },
   "outputs": [
    {
     "data": {
      "text/html": [
       "<table>\n",
       "<tbody>\n",
       "\t<tr><th scope=row></th><td>30</td></tr>\n",
       "\t<tr><th scope=row>x1</th><td>1.625</td></tr>\n",
       "\t<tr><th scope=row>x2</th><td>2.375</td></tr>\n",
       "\t<tr><th scope=row>s2.hat</th><td>1.55</td></tr>\n",
       "</tbody>\n",
       "</table>\n"
      ],
      "text/latex": [
       "\\begin{tabular}{r|l}\n",
       "\t & 30\\\\\n",
       "\tx1 & 1.625\\\\\n",
       "\tx2 & 2.375\\\\\n",
       "\ts2.hat & 1.55\\\\\n",
       "\\end{tabular}\n"
      ],
      "text/markdown": [
       "1. 30.0000000000041\n",
       "2. 1.62499999999982\n",
       "3. 2.37499999999984\n",
       "4. 1.55\n",
       "\n",
       "\n"
      ],
      "text/plain": [
       "         [,1]\n",
       "       30.000\n",
       "x1      1.625\n",
       "x2      2.375\n",
       "s2.hat  1.550"
      ]
     },
     "execution_count": 3,
     "metadata": {},
     "output_type": "execute_result"
    }
   ],
   "source": [
    "y <- c(82, 79, 74, 83, 80, 81, 84, 81)\n",
    "x1 <- c(10, 9, 9, 11, 11, 10, 10, 12)\n",
    "x2 <- c(15, 14, 13, 15, 14, 14, 16, 13)\n",
    "n <- length(y)\n",
    "X <- cbind(1,x1,x2)\n",
    "Xt <- t(X)\n",
    "XtX <- Xt %*% X\n",
    "beta.hat <- solve(XtX,Xt%*%y)\n",
    "s2.hat <- sum((X%*%beta.hat-y)^2)  / (n-3)\n",
    "rbind(beta.hat,s2.hat)"
   ]
  },
  {
   "cell_type": "markdown",
   "metadata": {},
   "source": [
    "$\\begin{pmatrix}\n",
    "\\hat\\beta_1 \\\\\n",
    "\\hat\\beta_2 \\\\\n",
    "\\hat\\sigma^2 \\\\\n",
    "\\end{pmatrix}$ =\n",
    "$\\begin{pmatrix}\n",
    "1.625\\\\\n",
    "2.375\\\\\n",
    "1.550\\\\\n",
    "\\end{pmatrix}$"
   ]
  },
  {
   "cell_type": "code",
   "execution_count": 4,
   "metadata": {
    "collapsed": false
   },
   "outputs": [],
   "source": [
    "#summary(lm(y ~ x1 + x2)) # check if same"
   ]
  },
  {
   "cell_type": "markdown",
   "metadata": {},
   "source": [
    "### 2b) Give a 95% confidence interval for $\\beta_1$ and $\\beta_1 + \\beta_2$"
   ]
  },
  {
   "cell_type": "code",
   "execution_count": 5,
   "metadata": {
    "collapsed": false
   },
   "outputs": [],
   "source": [
    "C <- matrix(c(0,1,0,\n",
    "              0,1,1),2,byrow=TRUE)\n",
    "Cb <- C %*% beta.hat\n",
    "se <- s2.hat * C %*% solve(XtX) %*% t(C)\n",
    "t.star <- qt(.975,n-3)\n",
    "\n",
    "b1_CI <- Cb[1] + c(-1,1) * t.star * sqrt( se[1,1] )\n",
    "b1_plus_b2_CI <- Cb[2] + c(-1,1) * t.star * sqrt( se[2,2] )"
   ]
  },
  {
   "cell_type": "code",
   "execution_count": 10,
   "metadata": {
    "collapsed": false
   },
   "outputs": [
    {
     "data": {
      "text/html": [
       "<table>\n",
       "<tbody>\n",
       "\t<tr><th scope=row>b1_CI</th><td>0.4537923</td><td>2.7962077</td></tr>\n",
       "\t<tr><th scope=row>b1_plus_b2_CI</th><td>2.289342</td><td>5.710658</td></tr>\n",
       "</tbody>\n",
       "</table>\n"
      ],
      "text/latex": [
       "\\begin{tabular}{r|ll}\n",
       "\tb1\\_CI & 0.4537923 & 2.7962077\\\\\n",
       "\tb1\\_plus\\_b2\\_CI & 2.289342 & 5.710658\\\\\n",
       "\\end{tabular}\n"
      ],
      "text/markdown": [
       "1. 0.453792346631316\n",
       "2. 2.28934172993932\n",
       "3. 2.79620765336833\n",
       "4. 5.71065827006\n",
       "\n",
       "\n"
      ],
      "text/plain": [
       "                   [,1]     [,2]\n",
       "b1_CI         0.4537923 2.796208\n",
       "b1_plus_b2_CI 2.2893417 5.710658"
      ]
     },
     "execution_count": 10,
     "metadata": {},
     "output_type": "execute_result"
    }
   ],
   "source": [
    "rbind(b1_CI, b1_plus_b2_CI)"
   ]
  },
  {
   "cell_type": "markdown",
   "metadata": {},
   "source": [
    "The 95% confidence interval for $\\beta_1$ is **(.4538, .2796)**.\n",
    "\n",
    "The 95% confidence interval for $\\beta_1+\\beta_2$ is **(2.289, 5.711)**."
   ]
  },
  {
   "cell_type": "markdown",
   "metadata": {},
   "source": [
    "### 2c)  Perform an $\\alpha = .01$ test for $H_0: \\beta_2 = 3$"
   ]
  },
  {
   "cell_type": "code",
   "execution_count": 15,
   "metadata": {
    "collapsed": false
   },
   "outputs": [
    {
     "data": {
      "text/html": [
       "<table>\n",
       "<tbody>\n",
       "\t<tr><th scope=row>b2_CI</th><td>-0.2121237</td><td> 3.4621237</td></tr>\n",
       "</tbody>\n",
       "</table>\n"
      ],
      "text/latex": [
       "\\begin{tabular}{r|ll}\n",
       "\tb2\\_CI & -0.2121237 &  3.4621237\\\\\n",
       "\\end{tabular}\n"
      ],
      "text/markdown": [
       "1. -0.212123664513692\n",
       "2. 3.46212366451334\n",
       "\n",
       "\n"
      ],
      "text/plain": [
       "            [,1]     [,2]\n",
       "b2_CI -0.2121237 3.462124"
      ]
     },
     "execution_count": 15,
     "metadata": {},
     "output_type": "execute_result"
    }
   ],
   "source": [
    "b2 <- beta.hat[2]\n",
    "se.b2 <- sqrt( s2.hat * solve(XtX)[3,3] )\n",
    "b2_CI <- b2 + c(-1,1) * qt(.995,n-3) * se.b2\n",
    "rbind(b2_CI)"
   ]
  },
  {
   "cell_type": "markdown",
   "metadata": {},
   "source": [
    "The 95% confidence interval for $\\beta_2$ is **(-.2121, 3.462)**.\n",
    "\n",
    "Since the confidence interval contains 3, at the 95% confidence level, we **fail to reject** the null hypothesis that $\\beta_2 = 3$."
   ]
  },
  {
   "cell_type": "markdown",
   "metadata": {},
   "source": [
    "### 2d) Find the p-value for the test of $H_0: \\beta_1 - \\beta_2 = 0$."
   ]
  },
  {
   "cell_type": "code",
   "execution_count": 19,
   "metadata": {
    "collapsed": false
   },
   "outputs": [
    {
     "data": {
      "text/html": [
       "<table>\n",
       "<tbody>\n",
       "\t<tr><td>-1.204829</td></tr>\n",
       "</tbody>\n",
       "</table>\n"
      ],
      "text/latex": [
       "\\begin{tabular}{l}\n",
       "\t -1.204829\\\\\n",
       "\\end{tabular}\n"
      ],
      "text/markdown": [
       "-1.20482899335377"
      ],
      "text/plain": [
       "          [,1]\n",
       "[1,] -1.204829"
      ]
     },
     "execution_count": 19,
     "metadata": {},
     "output_type": "execute_result"
    },
    {
     "data": {
      "text/html": [
       "<table>\n",
       "<tbody>\n",
       "\t<tr><td>0.2821799</td></tr>\n",
       "</tbody>\n",
       "</table>\n"
      ],
      "text/latex": [
       "\\begin{tabular}{l}\n",
       "\t 0.2821799\\\\\n",
       "\\end{tabular}\n"
      ],
      "text/markdown": [
       "0.282179859030042"
      ],
      "text/plain": [
       "          [,1]\n",
       "[1,] 0.2821799"
      ]
     },
     "execution_count": 19,
     "metadata": {},
     "output_type": "execute_result"
    }
   ],
   "source": [
    "lam <- matrix(c(0,1,-1),nrow=1)\n",
    "b1_minus_b2 <- lam %*% beta.hat \n",
    "se_d <- sqrt( s2.hat * lam %*% solve(XtX) %*% t(lam) )\n",
    "\n",
    "t.stat <- b1_minus_b2 / se_d\n",
    "p.val <- pt(abs(t.stat),n-3,lower.tail=FALSE) * 2\n",
    "\n",
    "t.stat\n",
    "p.val"
   ]
  },
  {
   "cell_type": "markdown",
   "metadata": {},
   "source": [
    "The p-value is .28. So, at the 95% confidence level, we **fail to reject** the null hypothesis that the difference between $\\beta_1$ and $\\beta_2$ is 0."
   ]
  },
  {
   "cell_type": "markdown",
   "metadata": {},
   "source": [
    "### 3) Show that for a linear model with an intercept, $R^2$ is simply the square of the correlation between the data $y_i$ and the predicted values $\\hat{y}_i$.\n",
    "\n",
    "$$\n",
    "\\def\\y{\\boldsymbol y}\n",
    "\\def\\P{\\boldsymbol P}\n",
    "\\def\\I{\\boldsymbol I}\n",
    "\\def\\ds{\\displaystyle}\n",
    "\\def\\bk#1{\\left[#1\\right]}\n",
    "\\def\\p#1{\\left(#1\\right)}\n",
    "$$\n",
    "\n",
    "We need to show that $R^2 = \\ds\\frac{\\y^T(\\P_x-\\P_1)\\y}{\\y^T(\\I-\\P_1)\\y} = \n",
    "\\p{\\frac{(\\y-\\bar\\y)^T(\\hat\\y-\\bar\\y)}{\\ds\\sqrt{(\\y-\\bar\\y)^T(\\y-\\bar\\y)(\\hat\\y-\\bar\\y)^T(\\hat\\y-\\bar\\y)}}}^2 =\n",
    "\\p{\\text{Cor}(\\y,\\hat{\\y})}^2$.\n",
    "\n",
    "First, note that by adding and subtracting $\\hat\\y$,\n",
    "\n",
    "$$\n",
    "\\begin{array}{rcl}\n",
    "    (\\y-\\bar\\y)^T(\\hat\\y-\\bar\\y) &=& \\bk{(\\hat\\y - \\bar\\y) + (\\y-\\hat\\y)}^T(\\hat\\y-\\bar\\y) \\\\\n",
    "    &=& (\\hat\\y - \\bar\\y)^T(\\hat\\y-\\bar\\y) + (\\y-\\hat\\y)^T(\\hat\\y-\\bar\\y) \\\\\n",
    "    &=& (\\hat\\y - \\bar\\y)^T(\\hat\\y-\\bar\\y) + 0.\n",
    "\\end{array}\n",
    "$$\n",
    "\n",
    "Then, Cor($\\y,\\hat\\y$) can be computed as follows:\n",
    "\n",
    "$$\n",
    "\\begin{array}{rcl}\n",
    "    \\text{Cor}(\\y,\\hat\\y) &=& \\frac{\\ds(\\y-\\bar\\y)^T(\\hat\\y-\\bar\\y)}{\\ds\\sqrt{(\\y-\\bar\\y)^T(\\y-\\bar\\y)(\\hat\\y-\\bar\\y)^T(\\hat\\y-\\bar\\y)}} \\\\\n",
    "    &=& \\frac{\\ds(\\hat\\y - \\bar\\y)^T(\\hat\\y-\\bar\\y)}{\\ds\\sqrt{(\\y-\\bar\\y)^T(\\y-\\bar\\y)(\\hat\\y-\\bar\\y)^T(\\hat\\y-\\bar\\y)}} \\\\\n",
    "    &=& \\sqrt\\frac{\\ds{(\\hat\\y - \\bar\\y)^T(\\hat\\y-\\bar\\y)}}{\\ds{(\\y-\\bar\\y)^T(\\y-\\bar\\y)}} \\\\\n",
    "    &=& \\sqrt\\frac{\\ds{\\hat\\y^T\\hat\\y - n\\bar{y}^2}}{\\ds{\\y^T\\y-n\\bar{y}^2}} \\\\\n",
    "\\end{array}\n",
    "$$\n",
    "\n",
    "Now, \n",
    "$$\n",
    "\\begin{array}{rcl}\n",
    "    R^2 &=& \\ds\\frac{\\y^T(\\P_x-\\P_1)\\y}{\\y^T(\\I-\\P_1)\\y} \\\\\n",
    "    &=& \\ds\\frac{\\y^T\\P_x\\y - \\y^T\\P_1\\y}{\\y^T\\y - \\y^T\\P_1\\y}\n",
    "    &=& \\ds\\frac{\\hat\\y^T\\hat\\y - \\bar\\y^T\\bar\\y}{\\y^T\\y - \\bar\\y^T\\bar\\y} \\quad(\\because \\text{ projection matrices are symmetric and idempotent}) \\\\\n",
    "    &=& \\ds\\frac{\\hat\\y^T\\hat\\y - n\\bar{y}^2}{\\y^T\\y - n\\bar{y}^2}\n",
    "\\end{array}\n",
    "$$\n",
    "\n",
    "Therefore, $R^2 = \\p{\\text{Cor}(\\y,\\hat\\y)}^2$."
   ]
  },
  {
   "cell_type": "code",
   "execution_count": null,
   "metadata": {
    "collapsed": true
   },
   "outputs": [],
   "source": []
  }
 ],
 "metadata": {
  "celltoolbar": "Edit Metadata",
  "kernelspec": {
   "display_name": "R",
   "language": "R",
   "name": "ir"
  },
  "language_info": {
   "codemirror_mode": "r",
   "file_extension": ".r",
   "mimetype": "text/x-r-source",
   "name": "R",
   "pygments_lexer": "r",
   "version": "3.3.0"
  }
 },
 "nbformat": 4,
 "nbformat_minor": 0
}
